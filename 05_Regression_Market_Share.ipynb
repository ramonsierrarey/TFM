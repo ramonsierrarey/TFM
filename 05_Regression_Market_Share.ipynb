{
 "cells": [
  {
   "cell_type": "markdown",
   "metadata": {},
   "source": [
    "# Analisis del comportamiento de la cuota de mercado vs distancia\n",
    "\n",
    "Queremos predecir las ventas de una tienda basándonos en la cuota de mercado que alcanza de un CP dependiendo de la distancia a ese CP."
   ]
  },
  {
   "cell_type": "code",
   "execution_count": 7,
   "metadata": {
    "scrolled": true
   },
   "outputs": [
    {
     "name": "stdout",
     "output_type": "stream",
     "text": [
      "Collecting scikit-learnNote: you may need to restart the kernel to use updated packages.\n",
      "\n",
      "  Downloading scikit_learn-1.0.2-cp310-cp310-win_amd64.whl (7.2 MB)\n",
      "     ---------------------------------------- 7.2/7.2 MB 6.5 MB/s eta 0:00:00\n",
      "Collecting threadpoolctl>=2.0.0\n",
      "  Downloading threadpoolctl-3.1.0-py3-none-any.whl (14 kB)\n",
      "Requirement already satisfied: numpy>=1.14.6 in c:\\users\\frpla1\\appdata\\local\\programs\\python\\python310\\lib\\site-packages (from scikit-learn) (1.22.3)\n",
      "Collecting scipy>=1.1.0\n",
      "  Downloading scipy-1.8.0-cp310-cp310-win_amd64.whl (37.0 MB)\n",
      "     ---------------------------------------- 37.0/37.0 MB 7.0 MB/s eta 0:00:00\n",
      "Collecting joblib>=0.11\n",
      "  Downloading joblib-1.1.0-py2.py3-none-any.whl (306 kB)\n",
      "     -------------------------------------- 307.0/307.0 KB 6.3 MB/s eta 0:00:00\n",
      "Installing collected packages: threadpoolctl, scipy, joblib, scikit-learn\n",
      "Successfully installed joblib-1.1.0 scikit-learn-1.0.2 scipy-1.8.0 threadpoolctl-3.1.0\n"
     ]
    }
   ],
   "source": [
    "# Instalación del paquete necesario\n",
    "!pip install scikit-learn"
   ]
  },
  {
   "cell_type": "markdown",
   "metadata": {},
   "source": [
    "### Código todo en uno ejecutable"
   ]
  },
  {
   "cell_type": "code",
   "execution_count": 1,
   "metadata": {
    "scrolled": false
   },
   "outputs": [
    {
     "name": "stdout",
     "output_type": "stream",
     "text": [
      "%pylab is deprecated, use %matplotlib inline and import the required libraries.\n",
      "Populating the interactive namespace from numpy and matplotlib\n",
      "MAE:  0.0162 \n",
      "MAPE: 0.3927 \n",
      "RMSE: 0.0235 \n",
      "CORR: 0.7288 \n",
      "BIAS: 0.0001\n"
     ]
    }
   ],
   "source": [
    "%pylab inline\n",
    "import pandas as pd\n",
    "\n",
    "from sklearn.tree import DecisionTreeRegressor\n",
    "from sklearn.model_selection import GridSearchCV\n",
    "\n",
    "from sklearn.metrics import mean_absolute_error\n",
    "from sklearn.metrics import mean_squared_error\n",
    "from sklearn.model_selection import cross_val_score\n",
    "from sklearn.metrics import make_scorer\n",
    "\n",
    "import pickle\n",
    "\n",
    "### Funciones:\n",
    "# MAPE\n",
    "def mape(pred,y_test):\n",
    "    return np.mean(np.abs((pred-y_test)/y_test))\n",
    "# Correlación\n",
    "from sklearn.metrics import make_scorer\n",
    "def corr(pred,y_test):\n",
    "    return np.corrcoef(pred,y_test)[0][1]\n",
    "# BIAS\n",
    "from sklearn.metrics import make_scorer\n",
    "def bias(pred,y_test):\n",
    "    return np.mean(pred-y_test)\n",
    "\n",
    "# Importamos el export del ejercicio anterior (venta de cada tienda, tamaño del mercado y %cuota de mercado basado en la distancia)\n",
    "df = pd.read_csv(\"04_Output_CMP_Dist_sales.csv\")\n",
    "\n",
    "# Usamos la distancia como \"x\" y la cuota de mercado como \"y\"\n",
    "x = df[['Roundist']]\n",
    "y = df[\"MShare\"]\n",
    "\n",
    "# Cargamos la librería split train test\n",
    "from sklearn.model_selection import train_test_split\n",
    "\n",
    "# Train 80% | Test 20%\n",
    "x_train, x_test, y_train, y_test = train_test_split(x, y, test_size=0.20)\n",
    "\n",
    "### Tras ver el ejercicio por partes, nos quedamos con el DT + GS\n",
    "\n",
    "# Creamos instancia del modelo (minimizando MAE)\n",
    "regd = GridSearchCV(DecisionTreeRegressor(),\n",
    "    param_grid={'max_depth':np.arange(1,50)},\n",
    "    scoring='neg_mean_absolute_error')\n",
    "\n",
    "# Entrenamos el modelo\n",
    "regd.fit(x_train, y_train)\n",
    "\n",
    "### Export the model\n",
    "pickle.dump(regd, open(\"05_Output_Regression_DT.pickle\",\"wb\"))\n",
    "\n",
    "### Métricas\n",
    "MAE_DT = np.mean(np.abs(cross_val_score(regd, x, y, cv=5, scoring=\"neg_mean_absolute_error\")))\n",
    "MAPE_DT = np.mean(cross_val_score(regd,x,y,cv=5,scoring=make_scorer(mape)))\n",
    "RMSE_DT = np.sqrt(np.abs(np.mean(cross_val_score(regd, x, y, cv=5, scoring=\"neg_mean_squared_error\"))))\n",
    "COR_DT = np.mean(cross_val_score(regd,x,y,cv=5,scoring=make_scorer(corr)))\n",
    "BIAS_DT = np.mean(cross_val_score(regd,x,y,cv=5,scoring=make_scorer(bias)))\n",
    "\n",
    "print(\"MAE: \", \"{:.4f}\".format(MAE_DT), \"\\nMAPE:\", \"{:.4f}\".format(MAPE_DT), \"\\nRMSE:\",\"{:.4f}\".format(RMSE_DT),\"\\nCORR:\",\"{:.4f}\".format(COR_DT),\"\\nBIAS:\",\"{:.4f}\".format(BIAS_DT))"
   ]
  },
  {
   "cell_type": "markdown",
   "metadata": {},
   "source": [
    "--------"
   ]
  },
  {
   "cell_type": "markdown",
   "metadata": {},
   "source": [
    "### Ejercicio por partes"
   ]
  },
  {
   "cell_type": "code",
   "execution_count": 2,
   "metadata": {},
   "outputs": [
    {
     "name": "stdout",
     "output_type": "stream",
     "text": [
      "%pylab is deprecated, use %matplotlib inline and import the required libraries.\n",
      "Populating the interactive namespace from numpy and matplotlib\n"
     ]
    }
   ],
   "source": [
    "%pylab inline\n",
    "import pandas as pd"
   ]
  },
  {
   "cell_type": "code",
   "execution_count": 4,
   "metadata": {
    "scrolled": true
   },
   "outputs": [
    {
     "data": {
      "image/png": "[encoded data removed]",
      "text/plain": [
       "<Figure size 432x288 with 1 Axes>"
      ]
     },
     "metadata": {
      "needs_background": "light"
     },
     "output_type": "display_data"
    }
   ],
   "source": [
    "# Importamos el export del ejercicio anterior (venta de cada tienda, tamaño del mercado y %cuota de mercado basado en la distancia)\n",
    "df = pd.read_csv(\"04_Output_CMP_Dist_sales.csv\")\n",
    "\n",
    "# Usamos la distancia como \"x\" y la cuota de mercado como \"y\"\n",
    "x = df[['Roundist']]\n",
    "y = df[\"MShare\"]\n",
    "\n",
    "#Le echamos un vistazo:\n",
    "plt.scatter(x,y);"
   ]
  },
  {
   "cell_type": "markdown",
   "metadata": {},
   "source": [
    "--------"
   ]
  },
  {
   "cell_type": "markdown",
   "metadata": {},
   "source": [
    "# Vamos a encontrar el modelo que más se acerque a la realidad\n",
    "##### Métodos:\n",
    "Linear regression  \n",
    "K-Neighbors + GS  \n",
    "DecisionTree + GS\n",
    "##### Métricas:\n",
    "MAE. Mean Absolute Error. (Mean of all the prediction errors)  \n",
    "MAPE. Mean Absolute Percentage error. (Mean Absolute Error / Mean real values)  \n",
    "RMSE. Root Mean Square Error (High errors affects more than small ones)  \n",
    "Correlation (between the prediction and the real value)  \n",
    "Bias (Average of errors)  \n",
    "  \n",
    "Split train | test = 80% | 20%"
   ]
  },
  {
   "cell_type": "code",
   "execution_count": 5,
   "metadata": {},
   "outputs": [],
   "source": [
    "# Cargamos la librería split train test\n",
    "from sklearn.model_selection import train_test_split\n",
    "\n",
    "# Train 80% | Test 20%\n",
    "x_train, x_test, y_train, y_test = train_test_split(x, y, test_size=0.20)"
   ]
  },
  {
   "cell_type": "markdown",
   "metadata": {},
   "source": [
    "# Linear regression"
   ]
  },
  {
   "cell_type": "markdown",
   "metadata": {},
   "source": [
    "#### Entrenamos el modelo"
   ]
  },
  {
   "cell_type": "code",
   "execution_count": 6,
   "metadata": {},
   "outputs": [
    {
     "data": {
      "text/plain": [
       "LinearRegression()"
      ]
     },
     "execution_count": 6,
     "metadata": {},
     "output_type": "execute_result"
    }
   ],
   "source": [
    "# Librería\n",
    "from sklearn.linear_model import LinearRegression\n",
    "\n",
    "# Creamos instancia del modelo\n",
    "reg = LinearRegression()\n",
    "\n",
    "# Entrenamos el modelo\n",
    "reg.fit(x_train,y_train)"
   ]
  },
  {
   "cell_type": "markdown",
   "metadata": {},
   "source": [
    "#### Métricas"
   ]
  },
  {
   "cell_type": "code",
   "execution_count": 7,
   "metadata": {},
   "outputs": [
    {
     "name": "stdout",
     "output_type": "stream",
     "text": [
      "MAE:  0.0188 \n",
      "MAPE: 0.7556 \n",
      "RMSE: 0.0247 \n",
      "CORR: 0.7902 \n",
      "BIAS: -0.0024\n"
     ]
    }
   ],
   "source": [
    "### Librerías de métricas:\n",
    "# MAE\n",
    "from sklearn.metrics import mean_absolute_error\n",
    "# RMSE\n",
    "from sklearn.metrics import mean_squared_error\n",
    "\n",
    "#### Las usamos con las predicciones:\n",
    "# MAE\n",
    "MAE_LR = mean_absolute_error(reg.predict(x_test),y_test)\n",
    "# MAPE\n",
    "#MAPE_LR = np.mean(np.abs(reg.predict(x_test)-y_test)/y_test)\n",
    "MAPE_LR = np.mean(np.abs(reg.predict(x_test)-y_test)/y_test)\n",
    "# RMSE\n",
    "RMSE_LR = np.sqrt(mean_squared_error(reg.predict(x_test),y_test))\n",
    "# Correlación\n",
    "COR_LR = np.corrcoef(reg.predict(x_test),y_test)[0][1]\n",
    "# BIAS\n",
    "BIAS_LR = np.mean(reg.predict(x_test)-y_test)\n",
    "\n",
    "### Vemos las métricas\n",
    "print(\"MAE: \", \"{:.4f}\".format(MAE_LR), \"\\nMAPE:\", \"{:.4f}\".format(MAPE_LR), \"\\nRMSE:\",\"{:.4f}\".format(RMSE_LR),\"\\nCORR:\",\"{:.4f}\".format(COR_LR),\"\\nBIAS:\",\"{:.4f}\".format(BIAS_LR))"
   ]
  },
  {
   "cell_type": "markdown",
   "metadata": {},
   "source": [
    "#### Imprimimos la solución"
   ]
  },
  {
   "cell_type": "code",
   "execution_count": 8,
   "metadata": {
    "scrolled": true
   },
   "outputs": [
    {
     "data": {
      "image/png": "[encoded data removed]",
      "text/plain": [
       "<Figure size 432x288 with 1 Axes>"
      ]
     },
     "metadata": {
      "needs_background": "light"
     },
     "output_type": "display_data"
    }
   ],
   "source": [
    "# Azul: train data, Verde: test data, Rojo: modelo\n",
    "plt.scatter(x_train, y_train,c='b')\n",
    "plt.scatter(x_test, y_test,c='g')\n",
    "xkk = np.linspace(0,20,200)\n",
    "plt.plot(xkk, reg.coef_*xkk+reg.intercept_, 'r');"
   ]
  },
  {
   "cell_type": "code",
   "execution_count": 9,
   "metadata": {
    "scrolled": false
   },
   "outputs": [
    {
     "data": {
      "image/png": "[encoded data removed]",
      "text/plain": [
       "<Figure size 432x288 with 1 Axes>"
      ]
     },
     "metadata": {
      "needs_background": "light"
     },
     "output_type": "display_data"
    }
   ],
   "source": [
    "# Verde: test data, Rojo: predicción\n",
    "plt.scatter(x_test, y_test,c='g')\n",
    "plt.scatter(x_test, reg.predict(x_test),c='r');"
   ]
  },
  {
   "cell_type": "markdown",
   "metadata": {},
   "source": [
    "# K-Neighbors + GS"
   ]
  },
  {
   "cell_type": "markdown",
   "metadata": {},
   "source": [
    "#### Entrenamos el modelo"
   ]
  },
  {
   "cell_type": "code",
   "execution_count": 10,
   "metadata": {},
   "outputs": [
    {
     "data": {
      "text/plain": [
       "KNeighborsRegressor(n_neighbors=40)"
      ]
     },
     "execution_count": 10,
     "metadata": {},
     "output_type": "execute_result"
    }
   ],
   "source": [
    "### Librerías\n",
    "# KNeighbors\n",
    "from sklearn.neighbors import KNeighborsRegressor\n",
    "# GridSearch\n",
    "from sklearn.model_selection import GridSearchCV\n",
    "\n",
    "# Creamos instancia del modelo (minimizando MAE)\n",
    "regk = GridSearchCV(KNeighborsRegressor(),\n",
    "    param_grid={\"n_neighbors\":np.arange(1,50)},\n",
    "    scoring=\"neg_mean_absolute_error\")\n",
    "\n",
    "# Entrenamos el modelo\n",
    "regk.fit(x_train, y_train)\n",
    "\n",
    "# El mejor parámetro para KNeighborThe best parameter for this data with this score\n",
    "regk.best_estimator_"
   ]
  },
  {
   "cell_type": "markdown",
   "metadata": {},
   "source": [
    "#### Métricas"
   ]
  },
  {
   "cell_type": "code",
   "execution_count": 11,
   "metadata": {},
   "outputs": [
    {
     "name": "stdout",
     "output_type": "stream",
     "text": [
      "MAE:  0.0184 \n",
      "MAPE: 0.8129 \n",
      "RMSE: 0.0239 \n",
      "CORR: 0.8248 \n",
      "BIAS: -0.0019\n"
     ]
    }
   ],
   "source": [
    "# MAE\n",
    "MAE_KN = mean_absolute_error(regk.best_estimator_.predict(x_test),y_test)\n",
    "# MAPE\n",
    "MAPE_KN = np.mean(np.abs(regk.best_estimator_.predict(x_test)-y_test)/y_test)\n",
    "# RMSE\n",
    "RMSE_KN = np.sqrt(mean_squared_error(regk.best_estimator_.predict(x_test),y_test))\n",
    "# Correlación\n",
    "COR_KN = np.corrcoef(regk.best_estimator_.predict(x_test),y_test)[0][1]\n",
    "# BIAS\n",
    "BIAS_KN = np.mean(regk.best_estimator_.predict(x_test)-y_test)\n",
    "\n",
    "### Vemos las métricas\n",
    "print(\"MAE: \", \"{:.4f}\".format(MAE_KN), \"\\nMAPE:\", \"{:.4f}\".format(MAPE_KN), \"\\nRMSE:\",\"{:.4f}\".format(RMSE_KN),\"\\nCORR:\",\"{:.4f}\".format(COR_KN),\"\\nBIAS:\",\"{:.4f}\".format(BIAS_KN))"
   ]
  },
  {
   "cell_type": "markdown",
   "metadata": {},
   "source": [
    "#### Imprimimos la solución"
   ]
  },
  {
   "cell_type": "code",
   "execution_count": 12,
   "metadata": {
    "scrolled": true
   },
   "outputs": [
    {
     "name": "stderr",
     "output_type": "stream",
     "text": [
      "C:\\Users\\frpla1\\AppData\\Local\\Programs\\Python\\Python310\\lib\\site-packages\\sklearn\\base.py:450: UserWarning: X does not have valid feature names, but KNeighborsRegressor was fitted with feature names\n",
      "  warnings.warn(\n"
     ]
    },
    {
     "data": {
      "image/png": "[encoded data removed]",
      "text/plain": [
       "<Figure size 432x288 with 1 Axes>"
      ]
     },
     "metadata": {
      "needs_background": "light"
     },
     "output_type": "display_data"
    }
   ],
   "source": [
    "# Azul: train data, Verde: test data, Rojo: modelo\n",
    "plt.scatter(x_train, y_train,c='b')\n",
    "plt.scatter(x_test, y_test,c='g')\n",
    "xkk = np.linspace(0,20,200)\n",
    "plt.plot(xkk, regk.best_estimator_.predict(xkk[:, np.newaxis]), c='r');"
   ]
  },
  {
   "cell_type": "code",
   "execution_count": 13,
   "metadata": {
    "scrolled": false
   },
   "outputs": [
    {
     "data": {
      "image/png": "[encoded data removed]",
      "text/plain": [
       "<Figure size 432x288 with 1 Axes>"
      ]
     },
     "metadata": {
      "needs_background": "light"
     },
     "output_type": "display_data"
    }
   ],
   "source": [
    "# Verde: test data, Rojo: predicción\n",
    "plt.scatter(x_test, y_test,c='g')\n",
    "plt.scatter(x_test, regk.best_estimator_.predict(x_test),c='r');"
   ]
  },
  {
   "cell_type": "markdown",
   "metadata": {},
   "source": [
    "# Decision tree (regression) + GS"
   ]
  },
  {
   "cell_type": "markdown",
   "metadata": {},
   "source": [
    "#### Entrenamos el modelo"
   ]
  },
  {
   "cell_type": "code",
   "execution_count": 14,
   "metadata": {},
   "outputs": [
    {
     "data": {
      "text/plain": [
       "DecisionTreeRegressor(max_depth=3)"
      ]
     },
     "execution_count": 14,
     "metadata": {},
     "output_type": "execute_result"
    }
   ],
   "source": [
    "# Librería\n",
    "from sklearn.tree import DecisionTreeRegressor\n",
    "\n",
    "# Creamos instancia del modelo (minimizando MAE)\n",
    "regd = GridSearchCV(DecisionTreeRegressor(),\n",
    "    param_grid={'max_depth':np.arange(1,50)},\n",
    "    scoring='neg_mean_absolute_error')\n",
    "\n",
    "# Entrenamos el modelo\n",
    "regd.fit(x_train, y_train)\n",
    "\n",
    "# El mejor parámetro para KNeighborThe best parameter for this data with this score\n",
    "regd.best_estimator_"
   ]
  },
  {
   "cell_type": "markdown",
   "metadata": {},
   "source": [
    "#### Métricas"
   ]
  },
  {
   "cell_type": "code",
   "execution_count": 15,
   "metadata": {
    "scrolled": true
   },
   "outputs": [
    {
     "name": "stdout",
     "output_type": "stream",
     "text": [
      "MAE:  0.0174 \n",
      "MAPE: 0.7729 \n",
      "RMSE: 0.0219 \n",
      "CORR: 0.8463 \n",
      "BIAS: -0.0011\n"
     ]
    }
   ],
   "source": [
    "# MAE\n",
    "MAE_DT = mean_absolute_error(regd.best_estimator_.predict(x_test),y_test)\n",
    "# MAPE\n",
    "MAPE_DT = np.mean(np.abs(regd.best_estimator_.predict(x_test)-y_test)/y_test)\n",
    "# RMSE\n",
    "RMSE_DT = np.sqrt(mean_squared_error(regd.best_estimator_.predict(x_test),y_test))\n",
    "# Correlación\n",
    "COR_DT = np.corrcoef(regd.best_estimator_.predict(x_test),y_test)[0][1]\n",
    "# BIAS\n",
    "BIAS_DT = np.mean(regd.best_estimator_.predict(x_test)-y_test)\n",
    "\n",
    "### Vemos las métricas\n",
    "print(\"MAE: \", \"{:.4f}\".format(MAE_DT), \"\\nMAPE:\", \"{:.4f}\".format(MAPE_DT), \"\\nRMSE:\",\"{:.4f}\".format(RMSE_DT),\"\\nCORR:\",\"{:.4f}\".format(COR_DT),\"\\nBIAS:\",\"{:.4f}\".format(BIAS_DT))"
   ]
  },
  {
   "cell_type": "markdown",
   "metadata": {},
   "source": [
    "#### Imprimimos la solución"
   ]
  },
  {
   "cell_type": "code",
   "execution_count": 16,
   "metadata": {
    "scrolled": false
   },
   "outputs": [
    {
     "name": "stderr",
     "output_type": "stream",
     "text": [
      "C:\\Users\\frpla1\\AppData\\Local\\Programs\\Python\\Python310\\lib\\site-packages\\sklearn\\base.py:450: UserWarning: X does not have valid feature names, but DecisionTreeRegressor was fitted with feature names\n",
      "  warnings.warn(\n"
     ]
    },
    {
     "data": {
      "image/png": "[encoded data removed]",
      "text/plain": [
       "<Figure size 432x288 with 1 Axes>"
      ]
     },
     "metadata": {
      "needs_background": "light"
     },
     "output_type": "display_data"
    }
   ],
   "source": [
    "# Azul: train data, Verde: test data, Rojo: modelo\n",
    "plt.scatter(x_train, y_train,c='b') # Plot the train data\n",
    "plt.scatter(x_test, y_test,c='g') # Plot the test data\n",
    "xkk = np.linspace(0,20,200)\n",
    "plt.plot(xkk, regd.best_estimator_.predict(xkk[:, np.newaxis]), c='r'); # Plot the prediction"
   ]
  },
  {
   "cell_type": "markdown",
   "metadata": {},
   "source": [
    "Plot prediction and test values"
   ]
  },
  {
   "cell_type": "code",
   "execution_count": 17,
   "metadata": {
    "scrolled": false
   },
   "outputs": [
    {
     "data": {
      "image/png": "[encoded data removed]",
      "text/plain": [
       "<Figure size 432x288 with 1 Axes>"
      ]
     },
     "metadata": {
      "needs_background": "light"
     },
     "output_type": "display_data"
    }
   ],
   "source": [
    "# Verde: test data, Rojo: predicción\n",
    "plt.scatter(x_test, y_test,c='g') # Plot the test data\n",
    "plt.scatter(x_test, regd.best_estimator_.predict(x_test),c='r'); # Plot the test data"
   ]
  },
  {
   "cell_type": "markdown",
   "metadata": {},
   "source": [
    "--------"
   ]
  },
  {
   "cell_type": "markdown",
   "metadata": {},
   "source": [
    "# Compare the metrics"
   ]
  },
  {
   "cell_type": "code",
   "execution_count": 18,
   "metadata": {
    "scrolled": true
   },
   "outputs": [
    {
     "data": {
      "text/html": [
       "<div>\n",
       "<style scoped>\n",
       "    .dataframe tbody tr th:only-of-type {\n",
       "        vertical-align: middle;\n",
       "    }\n",
       "\n",
       "    .dataframe tbody tr th {\n",
       "        vertical-align: top;\n",
       "    }\n",
       "\n",
       "    .dataframe thead th {\n",
       "        text-align: right;\n",
       "    }\n",
       "</style>\n",
       "<table border=\"1\" class=\"dataframe\">\n",
       "  <thead>\n",
       "    <tr style=\"text-align: right;\">\n",
       "      <th></th>\n",
       "      <th>Model</th>\n",
       "      <th>MAE</th>\n",
       "      <th>MAPE</th>\n",
       "      <th>RMSE</th>\n",
       "      <th>Correlation</th>\n",
       "      <th>BIAS</th>\n",
       "    </tr>\n",
       "  </thead>\n",
       "  <tbody>\n",
       "    <tr>\n",
       "      <th>0</th>\n",
       "      <td>LinearRegression</td>\n",
       "      <td>0.018807</td>\n",
       "      <td>0.755644</td>\n",
       "      <td>0.024685</td>\n",
       "      <td>0.790180</td>\n",
       "      <td>-0.002416</td>\n",
       "    </tr>\n",
       "    <tr>\n",
       "      <th>1</th>\n",
       "      <td>K-Neighbors_GS</td>\n",
       "      <td>0.018418</td>\n",
       "      <td>0.812912</td>\n",
       "      <td>0.023853</td>\n",
       "      <td>0.824777</td>\n",
       "      <td>-0.001871</td>\n",
       "    </tr>\n",
       "    <tr>\n",
       "      <th>2</th>\n",
       "      <td>DecisionTree_GS</td>\n",
       "      <td>0.017421</td>\n",
       "      <td>0.772947</td>\n",
       "      <td>0.021877</td>\n",
       "      <td>0.846346</td>\n",
       "      <td>-0.001084</td>\n",
       "    </tr>\n",
       "  </tbody>\n",
       "</table>\n",
       "</div>"
      ],
      "text/plain": [
       "              Model       MAE      MAPE      RMSE  Correlation      BIAS\n",
       "0  LinearRegression  0.018807  0.755644  0.024685     0.790180 -0.002416\n",
       "1    K-Neighbors_GS  0.018418  0.812912  0.023853     0.824777 -0.001871\n",
       "2   DecisionTree_GS  0.017421  0.772947  0.021877     0.846346 -0.001084"
      ]
     },
     "execution_count": 18,
     "metadata": {},
     "output_type": "execute_result"
    }
   ],
   "source": [
    "comparison = pd.DataFrame({\n",
    "    'Model':['LinearRegression', 'K-Neighbors_GS', 'DecisionTree_GS'],\n",
    "    'MAE':[MAE_LR, MAE_KN, MAE_DT],\n",
    "    'MAPE':[MAPE_LR, MAPE_KN, MAPE_DT],\n",
    "    'RMSE':[RMSE_LR, RMSE_KN, RMSE_DT],\n",
    "    'Correlation':[COR_LR, COR_KN, COR_DT],\n",
    "    'BIAS':[BIAS_LR, BIAS_KN, BIAS_DT]})\n",
    "comparison"
   ]
  },
  {
   "cell_type": "markdown",
   "metadata": {},
   "source": [
    "--------"
   ]
  },
  {
   "cell_type": "markdown",
   "metadata": {},
   "source": [
    "# Cross validation"
   ]
  },
  {
   "cell_type": "code",
   "execution_count": 19,
   "metadata": {},
   "outputs": [
    {
     "data": {
      "text/html": [
       "<div>\n",
       "<style scoped>\n",
       "    .dataframe tbody tr th:only-of-type {\n",
       "        vertical-align: middle;\n",
       "    }\n",
       "\n",
       "    .dataframe tbody tr th {\n",
       "        vertical-align: top;\n",
       "    }\n",
       "\n",
       "    .dataframe thead th {\n",
       "        text-align: right;\n",
       "    }\n",
       "</style>\n",
       "<table border=\"1\" class=\"dataframe\">\n",
       "  <thead>\n",
       "    <tr style=\"text-align: right;\">\n",
       "      <th></th>\n",
       "      <th>Model</th>\n",
       "      <th>MAE</th>\n",
       "      <th>MAPE</th>\n",
       "      <th>RMSE</th>\n",
       "      <th>Correlation</th>\n",
       "      <th>BIAS</th>\n",
       "    </tr>\n",
       "  </thead>\n",
       "  <tbody>\n",
       "    <tr>\n",
       "      <th>0</th>\n",
       "      <td>LinearRegression</td>\n",
       "      <td>0.017154</td>\n",
       "      <td>0.419345</td>\n",
       "      <td>0.024875</td>\n",
       "      <td>0.689635</td>\n",
       "      <td>0.000092</td>\n",
       "    </tr>\n",
       "    <tr>\n",
       "      <th>1</th>\n",
       "      <td>K-Neighbors_GS</td>\n",
       "      <td>0.016504</td>\n",
       "      <td>0.401336</td>\n",
       "      <td>0.023858</td>\n",
       "      <td>0.713233</td>\n",
       "      <td>-0.000009</td>\n",
       "    </tr>\n",
       "    <tr>\n",
       "      <th>2</th>\n",
       "      <td>DecisionTree_GS</td>\n",
       "      <td>0.016198</td>\n",
       "      <td>0.392657</td>\n",
       "      <td>0.023486</td>\n",
       "      <td>0.728761</td>\n",
       "      <td>0.000123</td>\n",
       "    </tr>\n",
       "  </tbody>\n",
       "</table>\n",
       "</div>"
      ],
      "text/plain": [
       "              Model       MAE      MAPE      RMSE  Correlation      BIAS\n",
       "0  LinearRegression  0.017154  0.419345  0.024875     0.689635  0.000092\n",
       "1    K-Neighbors_GS  0.016504  0.401336  0.023858     0.713233 -0.000009\n",
       "2   DecisionTree_GS  0.016198  0.392657  0.023486     0.728761  0.000123"
      ]
     },
     "execution_count": 19,
     "metadata": {},
     "output_type": "execute_result"
    }
   ],
   "source": [
    "### Librerías:\n",
    "# Cross validation\n",
    "from sklearn.model_selection import cross_val_score\n",
    "# Scoring personalizado\n",
    "from sklearn.metrics import make_scorer\n",
    "\n",
    "### Funciones:\n",
    "# MAPE\n",
    "def mape(pred,y_test):\n",
    "    return np.mean(np.abs((pred-y_test)/y_test))\n",
    "# Correlación\n",
    "from sklearn.metrics import make_scorer\n",
    "def corr(pred,y_test):\n",
    "    return np.corrcoef(pred,y_test)[0][1]\n",
    "# BIAS\n",
    "from sklearn.metrics import make_scorer\n",
    "def bias(pred,y_test):\n",
    "    return np.mean(pred-y_test)\n",
    "\n",
    "### Logistic Regression\n",
    "MAE_LR = np.mean(np.abs(cross_val_score(reg, x, y, cv=5, scoring=\"neg_mean_absolute_error\")))\n",
    "MAPE_LR = np.mean(cross_val_score(reg,x,y,cv=5,scoring=make_scorer(mape)))\n",
    "RMSE_LR = np.sqrt(np.abs(np.mean(cross_val_score(reg, x, y, cv=5, scoring=\"neg_mean_squared_error\"))))\n",
    "COR_LR = np.mean(cross_val_score(reg,x,y,cv=5,scoring=make_scorer(corr)))\n",
    "BIAS_LR = np.mean(cross_val_score(reg,x,y,cv=5,scoring=make_scorer(bias)))\n",
    "\n",
    "### K-Neighbors + GS\n",
    "MAE_KN = np.mean(np.abs(cross_val_score(regk, x, y, cv=5, scoring=\"neg_mean_absolute_error\")))\n",
    "MAPE_KN = np.mean(cross_val_score(regk,x,y,cv=5,scoring=make_scorer(mape)))\n",
    "RMSE_KN = np.sqrt(np.abs(np.mean(cross_val_score(regk, x, y, cv=5, scoring=\"neg_mean_squared_error\"))))\n",
    "COR_KN = np.mean(cross_val_score(regk,x,y,cv=5,scoring=make_scorer(corr)))\n",
    "BIAS_KN = np.mean(cross_val_score(regk,x,y,cv=5,scoring=make_scorer(bias)))\n",
    "\n",
    "### Decision Tree (Regression) + GS\n",
    "MAE_DT = np.mean(np.abs(cross_val_score(regd, x, y, cv=5, scoring=\"neg_mean_absolute_error\")))\n",
    "MAPE_DT = np.mean(cross_val_score(regd,x,y,cv=5,scoring=make_scorer(mape)))\n",
    "RMSE_DT = np.sqrt(np.abs(np.mean(cross_val_score(regd, x, y, cv=5, scoring=\"neg_mean_squared_error\"))))\n",
    "COR_DT = np.mean(cross_val_score(regd,x,y,cv=5,scoring=make_scorer(corr)))\n",
    "BIAS_DT = np.mean(cross_val_score(regd,x,y,cv=5,scoring=make_scorer(bias)))\n",
    "\n",
    "### Tabla comparativa\n",
    "comparison = pd.DataFrame({\n",
    "    'Model':['LinearRegression', 'K-Neighbors_GS', 'DecisionTree_GS'],\n",
    "    'MAE':[MAE_LR, MAE_KN, MAE_DT],\n",
    "    'MAPE':[MAPE_LR, MAPE_KN, MAPE_DT],\n",
    "    'RMSE':[RMSE_LR, RMSE_KN, RMSE_DT],\n",
    "    'Correlation':[COR_LR, COR_KN, COR_DT],\n",
    "    'BIAS':[BIAS_LR, BIAS_KN, BIAS_DT]})\n",
    "comparison"
   ]
  },
  {
   "cell_type": "markdown",
   "metadata": {},
   "source": [
    "# Export models"
   ]
  },
  {
   "cell_type": "code",
   "execution_count": 20,
   "metadata": {},
   "outputs": [],
   "source": [
    "### Export the model\n",
    "import pickle\n",
    "pickle.dump(reg, open(\"Regression_LR.pickle\",\"wb\"))\n",
    "pickle.dump(regk, open(\"Regression_KN.pickle\",\"wb\"))\n",
    "pickle.dump(regd, open(\"Regression_DT.pickle\",\"wb\"))"
   ]
  },
  {
   "cell_type": "code",
   "execution_count": 114,
   "metadata": {},
   "outputs": [],
   "source": [
    "### Import a model\n",
    "import pickle\n",
    "LR_model = pickle.load(open(\"Regression_LR.pickle\",\"rb\"))\n",
    "KN_model = pickle.load(open(\"Regression_KN.pickle\",\"rb\"))\n",
    "DT_model = pickle.load(open(\"Regression_DT.pickle\",\"rb\"))"
   ]
  }
 ],
 "metadata": {
  "kernelspec": {
   "display_name": "Python 3",
   "language": "python",
   "name": "python3"
  },
  "language_info": {
   "codemirror_mode": {
    "name": "ipython",
    "version": 3
   },
   "file_extension": ".py",
   "mimetype": "text/x-python",
   "name": "python",
   "nbconvert_exporter": "python",
   "pygments_lexer": "ipython3",
   "version": "3.7.6"
  }
 },
 "nbformat": 4,
 "nbformat_minor": 2
}
