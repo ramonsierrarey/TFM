{
  "nbformat": 4,
  "nbformat_minor": 0,
  "metadata": {
    "colab": {
      "name": "Coordendas_CP.ipynb",
      "provenance": [],
      "authorship_tag": "ABX9TyN+vPCR/bPipfzEwzWM5Bsu",
      "include_colab_link": true
    },
    "kernelspec": {
      "name": "python3",
      "display_name": "Python 3"
    },
    "language_info": {
      "name": "python"
    }
  },
  "cells": [
    {
      "cell_type": "markdown",
      "metadata": {
        "id": "view-in-github",
        "colab_type": "text"
      },
      "source": [
        "<a href=\"https://colab.research.google.com/github/ramonsierrarey/TFM/blob/main/Coordendas_CP.ipynb\" target=\"_parent\"><img src=\"https://colab.research.google.com/assets/colab-badge.svg\" alt=\"Open In Colab\"/></a>"
      ]
    },
    {
      "cell_type": "markdown",
      "source": [
        "Obtener coordenadas con API de Google"
      ],
      "metadata": {
        "id": "1jE5MUlLzE2L"
      }
    },
    {
      "cell_type": "code",
      "execution_count": null,
      "metadata": {
        "colab": {
          "base_uri": "https://localhost:8080/"
        },
        "id": "NhEYZTTxy_Ir",
        "outputId": "3b803ffc-8f34-4a39-be48-ece1840883d1"
      },
      "outputs": [
        {
          "output_type": "stream",
          "name": "stdout",
          "text": [
            "Drive already mounted at /content/drive/; to attempt to forcibly remount, call drive.mount(\"/content/drive/\", force_remount=True).\n",
            "/content/drive/My Drive/DATA_SCIENCE/TFM\n"
          ]
        }
      ],
      "source": [
        "import pandas as pd\n",
        "from google.colab import drive\n",
        "drive.mount('/content/drive/')\n",
        "%cd /content/drive/My Drive/DATA_SCIENCE/TFM/"
      ]
    },
    {
      "cell_type": "code",
      "source": [
        "df=pd.read_excel('Datos_CP.xlsx')"
      ],
      "metadata": {
        "id": "qsb3TZd8zNw2"
      },
      "execution_count": null,
      "outputs": []
    },
    {
      "cell_type": "code",
      "source": [
        "df['CP_Spain']= '0'+df['CP'].astype(str)\n",
        "df['CP_Spain']= df['CP_Spain'].str[-5:]+' Spain'\n",
        "df= df[['CP_Spain','CP','Market Size']]"
      ],
      "metadata": {
        "id": "FUpBMThe3ATW"
      },
      "execution_count": null,
      "outputs": []
    },
    {
      "cell_type": "code",
      "source": [
        "pip install googlemaps"
      ],
      "metadata": {
        "colab": {
          "base_uri": "https://localhost:8080/"
        },
        "id": "Tm_1e6wP5tjC",
        "outputId": "985df68c-504e-4e5d-9258-618681b7087c"
      },
      "execution_count": null,
      "outputs": [
        {
          "output_type": "stream",
          "name": "stdout",
          "text": [
            "Requirement already satisfied: googlemaps in /usr/local/lib/python3.7/dist-packages (4.6.0)\n",
            "Requirement already satisfied: requests<3.0,>=2.20.0 in /usr/local/lib/python3.7/dist-packages (from googlemaps) (2.23.0)\n",
            "Requirement already satisfied: urllib3!=1.25.0,!=1.25.1,<1.26,>=1.21.1 in /usr/local/lib/python3.7/dist-packages (from requests<3.0,>=2.20.0->googlemaps) (1.24.3)\n",
            "Requirement already satisfied: idna<3,>=2.5 in /usr/local/lib/python3.7/dist-packages (from requests<3.0,>=2.20.0->googlemaps) (2.10)\n",
            "Requirement already satisfied: chardet<4,>=3.0.2 in /usr/local/lib/python3.7/dist-packages (from requests<3.0,>=2.20.0->googlemaps) (3.0.4)\n",
            "Requirement already satisfied: certifi>=2017.4.17 in /usr/local/lib/python3.7/dist-packages (from requests<3.0,>=2.20.0->googlemaps) (2021.10.8)\n"
          ]
        }
      ]
    },
    {
      "cell_type": "code",
      "source": [
        "import googlemaps"
      ],
      "metadata": {
        "id": "iVF5gRmH4dUe"
      },
      "execution_count": null,
      "outputs": []
    },
    {
      "cell_type": "code",
      "source": [
        "gmaps_key= googlemaps.Client(key='XXXXXXXXXXXXXXXXXXXXXXXXXXXXXXXXXXXXX')"
      ],
      "metadata": {
        "id": "OxMA3A4S5bmJ"
      },
      "execution_count": null,
      "outputs": []
    },
    {
      "cell_type": "markdown",
      "source": [
        ""
      ],
      "metadata": {
        "id": "0p_zJyV-WYm7"
      }
    },
    {
      "cell_type": "code",
      "source": [
        "df['Latitude']= None\n",
        "df['Longitude']= None"
      ],
      "metadata": {
        "id": "Xq07uIZi4wbv"
      },
      "execution_count": null,
      "outputs": []
    },
    {
      "cell_type": "code",
      "source": [
        "for i in range(0,len(df),1):\n",
        "    geocode_result= gmaps_key.geocode(df.iat[i,0])\n",
        "    try:\n",
        "        lat= geocode_result[0]['geometry']['location']['lat']\n",
        "        lon= geocode_result[0]['geometry']['location']['lng']\n",
        "        df.iat[i, df.columns.get_loc('Latitude')] = lat\n",
        "        df.iat[i, df.columns.get_loc('Longitude')] = lon\n",
        "    except:\n",
        "        lat = None\n",
        "        lon = None"
      ],
      "metadata": {
        "id": "GOOq2j9645b8"
      },
      "execution_count": null,
      "outputs": []
    },
    {
      "cell_type": "code",
      "source": [
        "df= df[['CP','Market Size','Latitude','Longitude']]"
      ],
      "metadata": {
        "id": "IEJdklWaQUN7"
      },
      "execution_count": null,
      "outputs": []
    },
    {
      "cell_type": "code",
      "source": [
        "df.to_csv('Codigos_Postales.csv' , index=False)"
      ],
      "metadata": {
        "id": "BIkP8hRO76FO"
      },
      "execution_count": null,
      "outputs": []
    }
  ]
}
