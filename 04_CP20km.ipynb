{
 "cells": [
  {
   "cell_type": "markdown",
   "metadata": {},
   "source": [
    "# Calcular todos los CP a menos de una distacia máxima para todos los CP de España"
   ]
  },
  {
   "cell_type": "code",
   "execution_count": 15,
   "metadata": {},
   "outputs": [
    {
     "name": "stdout",
     "output_type": "stream",
     "text": [
      "0\n",
      "500\n",
      "1000\n",
      "1500\n",
      "2000\n",
      "2500\n",
      "3000\n",
      "3500\n",
      "4000\n",
      "4500\n",
      "5000\n",
      "5500\n",
      "6000\n",
      "6500\n",
      "7000\n",
      "7500\n",
      "8000\n",
      "8500\n",
      "9000\n",
      "9500\n",
      "10000\n",
      "10500\n"
     ]
    }
   ],
   "source": [
    "import pandas as pd\n",
    "import math\n",
    "\n",
    "zipc = pd.read_csv('02_Output_Codigos_Postales.csv', dtype={'CP':'str', 'Latitude':'float','Longitude':'float'})\n",
    "maxdist = 20\n",
    "\n",
    "df = pd.DataFrame(columns=['CP', 'CP2', 'Dist','Market Size'])\n",
    "line=1\n",
    "\n",
    "for cp1,row in zipc.iterrows():\n",
    "    cpa = row[0]\n",
    "    lata = row[2]\n",
    "    lona = row[3]\n",
    "    if cp1 % 500 == 0:\n",
    "        print(cp1)\n",
    "    for cp2,row in zipc.iterrows():\n",
    "        cpb = row[0]\n",
    "        latb = row[2]\n",
    "        lonb = row[3]\n",
    "        msb = row[1]\n",
    "        try:\n",
    "            dist = math.acos(math.cos(math.radians(90-lata)) * math.cos(math.radians(90-latb)) + math.sin(math.radians(90-lata)) * math.sin(math.radians(90-latb)) * math.cos(math.radians(lona-lonb))) * 6371\n",
    "        except:\n",
    "            dist = 0\n",
    "        if dist <= maxdist:\n",
    "            df.loc[line] = (cpa,cpb,dist,msb)\n",
    "            line +=1 \n",
    "\n",
    "            \n",
    "# Exportamos el resultado a un CSV\n",
    "df.to_csv('04_Output_CP20km.csv', sep=',',decimal=\".\", index=False)"
   ]
  }
 ],
 "metadata": {
  "kernelspec": {
   "display_name": "Python 3 (ipykernel)",
   "language": "python",
   "name": "python3"
  },
  "language_info": {
   "codemirror_mode": {
    "name": "ipython",
    "version": 3
   },
   "file_extension": ".py",
   "mimetype": "text/x-python",
   "name": "python",
   "nbconvert_exporter": "python",
   "pygments_lexer": "ipython3",
   "version": "3.7.13"
  }
 },
 "nbformat": 4,
 "nbformat_minor": 4
}
