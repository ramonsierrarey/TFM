{
 "cells": [
  {
   "cell_type": "markdown",
   "metadata": {},
   "source": [
    "# Analisis del comportamiento de la cuota de mercado vs distancia\n",
    "\n",
    "Queremos predecir las ventas de una tienda basándonos en la cuota de mercado que alcanza de un CP dependiendo de la distancia a ese CP."
   ]
  },
  {
   "cell_type": "markdown",
   "metadata": {},
   "source": [
    "### Código todo en uno ejecutable"
   ]
  },
  {
   "cell_type": "code",
   "execution_count": 33,
   "metadata": {},
   "outputs": [],
   "source": [
    "# Importar el modelo\n",
    "import pandas as pd\n",
    "import pickle\n",
    "DT_model = pickle.load(open(\"05_Output_Regression_DT.pickle\",\"rb\"))\n",
    "\n",
    "# Importar distancias entre CP y market size\n",
    "zipcodes = pd.read_csv(\"03_Output_CP20km.csv\")\n",
    "zipcodes['Roundist'] = round (zipcodes['Dist'])\n",
    "\n",
    "# Aplicamos el modelo para predecir el % Market share dependiendo de la distancia y lo multiplicamos por el Market Size para saber la predicción de ventas\n",
    "zipcodes['MShare_Prediction'] = DT_model.predict(zipcodes[['Roundist']])\n",
    "zipcodes['Sales_Prediction'] = zipcodes['Market Size'] * zipcodes['MShare_Prediction']\n",
    "\n",
    "### Restamos de la predicción de Market Share el Market Share actual al que llegamos con nuestras tiendas, para quedarnos sólo con zonas potenciales\n",
    "\n",
    "# Importamos el Market Share que tenemos con las tiendas actuales\n",
    "actsales = pd.read_csv(\"04_Output_CP_Actual_MarketShare.csv\")\n",
    "\n",
    "# Calculamos los potenciales\n",
    "potentials = zipcodes.merge(actsales, on='CP2', how='left').fillna(0)\n",
    "potentials['Potential_Share'] = potentials['MShare_Prediction'] - potentials['Actual_MarketShare']\n",
    "potentials.loc[potentials['Potential_Share'] < 0, 'Potential_Share'] = 0 \n",
    "potentials['Potential_Sales'] = potentials['Market Size'] * potentials['Potential_Share']\n",
    "\n",
    "potentials.to_csv('06_Output_Sales_Prediction.csv', sep=',',decimal=\".\", index=False)"
   ]
  },
  {
   "cell_type": "markdown",
   "metadata": {},
   "source": [
    "--------"
   ]
  },
  {
   "cell_type": "markdown",
   "metadata": {},
   "source": [
    "### Ejercicio por partes"
   ]
  },
  {
   "cell_type": "code",
   "execution_count": 1,
   "metadata": {},
   "outputs": [],
   "source": [
    "# Importar el modelo\n",
    "import pickle\n",
    "DT_model = pickle.load(open(\"05_Output_Regression_DT.pickle\",\"rb\"))"
   ]
  },
  {
   "cell_type": "code",
   "execution_count": 2,
   "metadata": {},
   "outputs": [],
   "source": [
    "import pandas as pd\n",
    "\n",
    "# Importar distancias entre CP y market size\n",
    "zipcodes = pd.read_csv(\"03_Output_CP20km.csv\")\n",
    "zipcodes['Roundist'] = round (zipcodes['Dist'])\n",
    "\n",
    "# Aplicamos el modelo para predecir el % Market share dependiendo de la distancia y lo multiplicamos por el Market Size para saber la predicción de ventas\n",
    "zipcodes['MShare_Prediction'] = DT_model.predict(zipcodes[['Roundist']])\n",
    "zipcodes['Sales_Prediction'] = zipcodes['Market Size'] * zipcodes['MShare_Prediction']"
   ]
  },
  {
   "cell_type": "code",
   "execution_count": 3,
   "metadata": {
    "scrolled": true
   },
   "outputs": [
    {
     "data": {
      "text/html": [
       "<div>\n",
       "<style scoped>\n",
       "    .dataframe tbody tr th:only-of-type {\n",
       "        vertical-align: middle;\n",
       "    }\n",
       "\n",
       "    .dataframe tbody tr th {\n",
       "        vertical-align: top;\n",
       "    }\n",
       "\n",
       "    .dataframe thead th {\n",
       "        text-align: right;\n",
       "    }\n",
       "</style>\n",
       "<table border=\"1\" class=\"dataframe\">\n",
       "  <thead>\n",
       "    <tr style=\"text-align: right;\">\n",
       "      <th></th>\n",
       "      <th>CP</th>\n",
       "      <th>CP2</th>\n",
       "      <th>Dist</th>\n",
       "      <th>Market Size</th>\n",
       "      <th>Roundist</th>\n",
       "      <th>MShare_Prediction</th>\n",
       "      <th>Sales_Prediction</th>\n",
       "    </tr>\n",
       "  </thead>\n",
       "  <tbody>\n",
       "    <tr>\n",
       "      <th>0</th>\n",
       "      <td>1001</td>\n",
       "      <td>1001</td>\n",
       "      <td>0.000000</td>\n",
       "      <td>4055236</td>\n",
       "      <td>0.0</td>\n",
       "      <td>0.100455</td>\n",
       "      <td>407368.218132</td>\n",
       "    </tr>\n",
       "    <tr>\n",
       "      <th>1</th>\n",
       "      <td>1001</td>\n",
       "      <td>1002</td>\n",
       "      <td>1.346059</td>\n",
       "      <td>9222645</td>\n",
       "      <td>1.0</td>\n",
       "      <td>0.084919</td>\n",
       "      <td>783182.232010</td>\n",
       "    </tr>\n",
       "    <tr>\n",
       "      <th>2</th>\n",
       "      <td>1001</td>\n",
       "      <td>1003</td>\n",
       "      <td>1.756450</td>\n",
       "      <td>10160240</td>\n",
       "      <td>2.0</td>\n",
       "      <td>0.084919</td>\n",
       "      <td>862802.313323</td>\n",
       "    </tr>\n",
       "    <tr>\n",
       "      <th>3</th>\n",
       "      <td>1001</td>\n",
       "      <td>1004</td>\n",
       "      <td>0.647104</td>\n",
       "      <td>1968115</td>\n",
       "      <td>1.0</td>\n",
       "      <td>0.084919</td>\n",
       "      <td>167131.305450</td>\n",
       "    </tr>\n",
       "    <tr>\n",
       "      <th>4</th>\n",
       "      <td>1001</td>\n",
       "      <td>1005</td>\n",
       "      <td>0.541742</td>\n",
       "      <td>3139321</td>\n",
       "      <td>1.0</td>\n",
       "      <td>0.084919</td>\n",
       "      <td>266589.511770</td>\n",
       "    </tr>\n",
       "  </tbody>\n",
       "</table>\n",
       "</div>"
      ],
      "text/plain": [
       "     CP   CP2      Dist  Market Size  Roundist  MShare_Prediction  \\\n",
       "0  1001  1001  0.000000      4055236       0.0           0.100455   \n",
       "1  1001  1002  1.346059      9222645       1.0           0.084919   \n",
       "2  1001  1003  1.756450     10160240       2.0           0.084919   \n",
       "3  1001  1004  0.647104      1968115       1.0           0.084919   \n",
       "4  1001  1005  0.541742      3139321       1.0           0.084919   \n",
       "\n",
       "   Sales_Prediction  \n",
       "0     407368.218132  \n",
       "1     783182.232010  \n",
       "2     862802.313323  \n",
       "3     167131.305450  \n",
       "4     266589.511770  "
      ]
     },
     "execution_count": 3,
     "metadata": {},
     "output_type": "execute_result"
    }
   ],
   "source": [
    "zipcodes.head()"
   ]
  },
  {
   "cell_type": "code",
   "execution_count": 12,
   "metadata": {},
   "outputs": [],
   "source": []
  },
  {
   "cell_type": "code",
   "execution_count": 18,
   "metadata": {
    "scrolled": true
   },
   "outputs": [],
   "source": []
  },
  {
   "cell_type": "code",
   "execution_count": 31,
   "metadata": {
    "scrolled": false
   },
   "outputs": [
    {
     "data": {
      "text/html": [
       "<div>\n",
       "<style scoped>\n",
       "    .dataframe tbody tr th:only-of-type {\n",
       "        vertical-align: middle;\n",
       "    }\n",
       "\n",
       "    .dataframe tbody tr th {\n",
       "        vertical-align: top;\n",
       "    }\n",
       "\n",
       "    .dataframe thead th {\n",
       "        text-align: right;\n",
       "    }\n",
       "</style>\n",
       "<table border=\"1\" class=\"dataframe\">\n",
       "  <thead>\n",
       "    <tr style=\"text-align: right;\">\n",
       "      <th></th>\n",
       "      <th>CP</th>\n",
       "      <th>CP2</th>\n",
       "      <th>Dist</th>\n",
       "      <th>Market Size</th>\n",
       "      <th>Roundist</th>\n",
       "      <th>MShare_Prediction</th>\n",
       "      <th>Sales_Prediction</th>\n",
       "      <th>Actual_MarketShare</th>\n",
       "      <th>Potential_Share</th>\n",
       "      <th>Potential_Sales</th>\n",
       "    </tr>\n",
       "  </thead>\n",
       "  <tbody>\n",
       "    <tr>\n",
       "      <th>0</th>\n",
       "      <td>1001</td>\n",
       "      <td>1001</td>\n",
       "      <td>0.000000</td>\n",
       "      <td>4055236</td>\n",
       "      <td>0.0</td>\n",
       "      <td>0.100455</td>\n",
       "      <td>407368.218132</td>\n",
       "      <td>0.010417</td>\n",
       "      <td>0.090038</td>\n",
       "      <td>365123.518132</td>\n",
       "    </tr>\n",
       "    <tr>\n",
       "      <th>1</th>\n",
       "      <td>1001</td>\n",
       "      <td>1002</td>\n",
       "      <td>1.346059</td>\n",
       "      <td>9222645</td>\n",
       "      <td>1.0</td>\n",
       "      <td>0.084919</td>\n",
       "      <td>783182.232010</td>\n",
       "      <td>0.000948</td>\n",
       "      <td>0.083971</td>\n",
       "      <td>774435.232010</td>\n",
       "    </tr>\n",
       "    <tr>\n",
       "      <th>2</th>\n",
       "      <td>1001</td>\n",
       "      <td>1003</td>\n",
       "      <td>1.756450</td>\n",
       "      <td>10160240</td>\n",
       "      <td>2.0</td>\n",
       "      <td>0.084919</td>\n",
       "      <td>862802.313323</td>\n",
       "      <td>0.000008</td>\n",
       "      <td>0.084912</td>\n",
       "      <td>862723.013323</td>\n",
       "    </tr>\n",
       "    <tr>\n",
       "      <th>3</th>\n",
       "      <td>1001</td>\n",
       "      <td>1004</td>\n",
       "      <td>0.647104</td>\n",
       "      <td>1968115</td>\n",
       "      <td>1.0</td>\n",
       "      <td>0.084919</td>\n",
       "      <td>167131.305450</td>\n",
       "      <td>0.010553</td>\n",
       "      <td>0.074367</td>\n",
       "      <td>146362.105450</td>\n",
       "    </tr>\n",
       "    <tr>\n",
       "      <th>4</th>\n",
       "      <td>1001</td>\n",
       "      <td>1005</td>\n",
       "      <td>0.541742</td>\n",
       "      <td>3139321</td>\n",
       "      <td>1.0</td>\n",
       "      <td>0.084919</td>\n",
       "      <td>266589.511770</td>\n",
       "      <td>0.004498</td>\n",
       "      <td>0.080422</td>\n",
       "      <td>252469.211770</td>\n",
       "    </tr>\n",
       "  </tbody>\n",
       "</table>\n",
       "</div>"
      ],
      "text/plain": [
       "     CP   CP2      Dist  Market Size  Roundist  MShare_Prediction  \\\n",
       "0  1001  1001  0.000000      4055236       0.0           0.100455   \n",
       "1  1001  1002  1.346059      9222645       1.0           0.084919   \n",
       "2  1001  1003  1.756450     10160240       2.0           0.084919   \n",
       "3  1001  1004  0.647104      1968115       1.0           0.084919   \n",
       "4  1001  1005  0.541742      3139321       1.0           0.084919   \n",
       "\n",
       "   Sales_Prediction  Actual_MarketShare  Potential_Share  Potential_Sales  \n",
       "0     407368.218132            0.010417         0.090038    365123.518132  \n",
       "1     783182.232010            0.000948         0.083971    774435.232010  \n",
       "2     862802.313323            0.000008         0.084912    862723.013323  \n",
       "3     167131.305450            0.010553         0.074367    146362.105450  \n",
       "4     266589.511770            0.004498         0.080422    252469.211770  "
      ]
     },
     "execution_count": 31,
     "metadata": {},
     "output_type": "execute_result"
    }
   ],
   "source": [
    "### Restamos de la predicción de Market Share el Market Share actual al que llegamos con nuestras tiendas, para quedarnos sólo con zonas potenciales\n",
    "# Importamos el Market Share que tenemos con las tiendas actuales\n",
    "actsales = pd.read_csv(\"04_Output_CP_Actual_MarketShare.csv\")\n",
    "\n",
    "# Calculamos los potenciales\n",
    "potentials = zipcodes.merge(actsales, on='CP2', how='left').fillna(0)\n",
    "potentials['Potential_Share'] = potentials['MShare_Prediction'] - potentials['Actual_MarketShare']\n",
    "potentials.loc[potentials['Potential_Share'] < 0, 'Potential_Share'] = 0 \n",
    "potentials['Potential_Sales'] = potentials['Market Size'] * potentials['Potential_Share']\n",
    "potentials.head()"
   ]
  },
  {
   "cell_type": "code",
   "execution_count": 32,
   "metadata": {
    "scrolled": false
   },
   "outputs": [
    {
     "data": {
      "text/html": [
       "<div>\n",
       "<style scoped>\n",
       "    .dataframe tbody tr th:only-of-type {\n",
       "        vertical-align: middle;\n",
       "    }\n",
       "\n",
       "    .dataframe tbody tr th {\n",
       "        vertical-align: top;\n",
       "    }\n",
       "\n",
       "    .dataframe thead th {\n",
       "        text-align: right;\n",
       "    }\n",
       "</style>\n",
       "<table border=\"1\" class=\"dataframe\">\n",
       "  <thead>\n",
       "    <tr style=\"text-align: right;\">\n",
       "      <th></th>\n",
       "      <th>CP</th>\n",
       "      <th>Potential_Sales</th>\n",
       "    </tr>\n",
       "  </thead>\n",
       "  <tbody>\n",
       "    <tr>\n",
       "      <th>5399</th>\n",
       "      <td>28014</td>\n",
       "      <td>9.370943e+07</td>\n",
       "    </tr>\n",
       "    <tr>\n",
       "      <th>5397</th>\n",
       "      <td>28012</td>\n",
       "      <td>9.330769e+07</td>\n",
       "    </tr>\n",
       "    <tr>\n",
       "      <th>5392</th>\n",
       "      <td>28007</td>\n",
       "      <td>9.297092e+07</td>\n",
       "    </tr>\n",
       "    <tr>\n",
       "      <th>5386</th>\n",
       "      <td>28001</td>\n",
       "      <td>9.295530e+07</td>\n",
       "    </tr>\n",
       "    <tr>\n",
       "      <th>5394</th>\n",
       "      <td>28009</td>\n",
       "      <td>9.285825e+07</td>\n",
       "    </tr>\n",
       "  </tbody>\n",
       "</table>\n",
       "</div>"
      ],
      "text/plain": [
       "         CP  Potential_Sales\n",
       "5399  28014     9.370943e+07\n",
       "5397  28012     9.330769e+07\n",
       "5392  28007     9.297092e+07\n",
       "5386  28001     9.295530e+07\n",
       "5394  28009     9.285825e+07"
      ]
     },
     "execution_count": 32,
     "metadata": {},
     "output_type": "execute_result"
    }
   ],
   "source": [
    "Dist_sales = potentials.groupby(['CP'],as_index=False).agg({'Potential_Sales':'sum'})\n",
    "Dist_sales.sort_values(by=['Potential_Sales'], ascending=False, inplace=True)\n",
    "Dist_sales.head()"
   ]
  }
 ],
 "metadata": {
  "kernelspec": {
   "display_name": "Python 3",
   "language": "python",
   "name": "python3"
  },
  "language_info": {
   "codemirror_mode": {
    "name": "ipython",
    "version": 3
   },
   "file_extension": ".py",
   "mimetype": "text/x-python",
   "name": "python",
   "nbconvert_exporter": "python",
   "pygments_lexer": "ipython3",
   "version": "3.7.6"
  }
 },
 "nbformat": 4,
 "nbformat_minor": 2
}
